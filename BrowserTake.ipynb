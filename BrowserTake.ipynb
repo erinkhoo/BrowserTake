{
  "nbformat": 4,
  "nbformat_minor": 0,
  "metadata": {
    "colab": {
      "name": "BrowserTake.ipynb",
      "version": "0.3.2",
      "provenance": [],
      "include_colab_link": true
    },
    "kernelspec": {
      "name": "python3",
      "display_name": "Python 3"
    }
  },
  "cells": [
    {
      "cell_type": "markdown",
      "metadata": {
        "id": "view-in-github",
        "colab_type": "text"
      },
      "source": [
        "<a href=\"https://colab.research.google.com/github/erinkhoo/BrowserTake/blob/master/BrowserTake.ipynb\" target=\"_parent\"><img src=\"https://colab.research.google.com/assets/colab-badge.svg\" alt=\"Open In Colab\"/></a>"
      ]
    },
    {
      "cell_type": "markdown",
      "metadata": {
        "id": "pdM_NE52-U8f",
        "colab_type": "text"
      },
      "source": [
        "**BrowserTake**\n",
        "\n",
        "This application is a tool to scrape data off the open web without then need to worry about dependencies"
      ]
    },
    {
      "cell_type": "code",
      "metadata": {
        "id": "QxAsipUF-XXr",
        "colab_type": "code",
        "colab": {
          "base_uri": "https://localhost:8080/",
          "height": 130
        },
        "outputId": "05a85712-2161-45c4-9df0-d72b4cb5d2c3"
      },
      "source": [
        "from urllib.request import urlopen\n",
        "from bs4 import BeautifulSoup as bs\n",
        "import pandas as pd\n",
        "from urllib.parse import urlparse, urlsplit\n",
        "from PIL import Image\n",
        "\n",
        "website_page = 'https://graduateschool.ul.ie/science-and-engineering\n",
        "page = urlopen(website_page)\n",
        "soup = bs(page)\n",
        "soup\n",
        "\n",
        "title_links = soup.find_all('h3', class_='entry-title')\n",
        "title_links\n",
        "\n",
        "links = {}\n",
        "for i in range(0, len(title_links)):\n",
        "    _title = title_links[i]\n",
        "    only_title = _title.text.strip()\n",
        "    #print(_title.text.strip())\n",
        "    _link = [n['href'] for n in _title]\n",
        "    only_link = _link[0]\n",
        "    webpage_2 = only_link\n",
        "    print(webpage_2)\n",
        "    open_webpage_2 = urlopen(webpage_2)\n",
        "    soup2 = BS(open_webpage_2)\n",
        "    ex = soup2.find_all(['p', 'h4'])\n",
        "    post_Text = ''\n",
        "    for j in ex:\n",
        "        post_Text += j.text.strip() \n",
        "    \n",
        "    #print(_link[0])\n",
        "    links[i]=[only_title, only_link, post_Text]\n",
        "links\n",
        "\n",
        "A = []\n",
        "B = []\n",
        "C = []\n",
        "for i in range(0, len(links)):\n",
        "    A.append(links[i][0])\n",
        "    B.append(links[i][1])\n",
        "    C.append(links[i][2])\n",
        "\n",
        "df = pd.DataFrame(A, columns=['Title'])\n",
        "df['Link']=B\n",
        "df['Post']=C\n",
        "\n",
        "df.to_csv('file_name.csv', sep='\\t', encoding='utf-8')"
      ],
      "execution_count": 1,
      "outputs": [
        {
          "output_type": "error",
          "ename": "SyntaxError",
          "evalue": "ignored",
          "traceback": [
            "\u001b[0;36m  File \u001b[0;32m\"<ipython-input-1-98de8bad413c>\"\u001b[0;36m, line \u001b[0;32m7\u001b[0m\n\u001b[0;31m    website_page = 'https://graduateschool.ul.ie/science-and-engineering\u001b[0m\n\u001b[0m                                                                        ^\u001b[0m\n\u001b[0;31mSyntaxError\u001b[0m\u001b[0;31m:\u001b[0m EOL while scanning string literal\n"
          ]
        }
      ]
    },
    {
      "cell_type": "code",
      "metadata": {
        "id": "UeUUgJF3-n7G",
        "colab_type": "code",
        "colab": {}
      },
      "source": [
        ""
      ],
      "execution_count": 0,
      "outputs": []
    },
    {
      "cell_type": "markdown",
      "metadata": {
        "id": "QnCcW2yZ-Q8g",
        "colab_type": "text"
      },
      "source": [
        ""
      ]
    }
  ]
}